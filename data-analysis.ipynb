{
 "cells": [
  {
   "cell_type": "markdown",
   "metadata": {},
   "source": [
    "# Project Brief: Green Destinations"
   ]
  },
  {
   "cell_type": "markdown",
   "metadata": {},
   "source": [
    "Green Destinations is a well-known travel agency. The HR Director has recently noticed and increase in employess leaving (attrition)\n",
    "\n",
    "She would like to figure out any trends or patterns. She has surveyed the staff of Green Destinations and provided you with the data. She would like to know what the attrition rate is (% of people who left). She would also like to know if factors like age, years at the company and income play a part in determining if people will leave or not."
   ]
  },
  {
   "cell_type": "markdown",
   "metadata": {},
   "source": [
    "For this project, we will follow 6 step data analysis approach:\n",
    "\n",
    "Ask - Prepare - Process - Analyse - Share - Act"
   ]
  },
  {
   "cell_type": "markdown",
   "metadata": {},
   "source": [
    "### 1. Ask"
   ]
  },
  {
   "cell_type": "markdown",
   "metadata": {},
   "source": [
    "- What specific data has been collected for analysis? Are there any limitations or gaps in the data that might affect the analysis?\n",
    "- How are years at the company calculated? Is it based on tenure or hire date?\n",
    "- Have reasons for leaving been recorded for each departing employee? If so, what categories do these reasons fall into e.g. better job opportunity, dissatisfaction with management, relocation?"
   ]
  },
  {
   "cell_type": "markdown",
   "metadata": {},
   "source": [
    "KPI's\n",
    "\n",
    "- No. of employee's\n",
    "- No. of attrition's\n",
    "- Attrition rate\n",
    "- Average Age\n",
    "- Average Salary\n",
    "- Average years employee worked in company"
   ]
  },
  {
   "cell_type": "markdown",
   "metadata": {},
   "source": [
    "### 2. Prepare"
   ]
  },
  {
   "cell_type": "markdown",
   "metadata": {},
   "source": [
    "- We received our dataset from the management team directly\n",
    "- Dataset stored in csv folder named as *greendestination-dataset.csv*"
   ]
  },
  {
   "cell_type": "markdown",
   "metadata": {},
   "source": [
    "### 3. Process"
   ]
  },
  {
   "cell_type": "code",
   "execution_count": 109,
   "metadata": {},
   "outputs": [],
   "source": [
    "#importing python libraries\n",
    "import pandas as pd"
   ]
  },
  {
   "cell_type": "code",
   "execution_count": 2,
   "metadata": {},
   "outputs": [],
   "source": [
    "#importing dataset into dataframe variable\n",
    "dataframe = pd.read_csv('./csv/greendestination-dataset.csv')"
   ]
  },
  {
   "cell_type": "code",
   "execution_count": 3,
   "metadata": {},
   "outputs": [
    {
     "data": {
      "text/html": [
       "<div>\n",
       "<style scoped>\n",
       "    .dataframe tbody tr th:only-of-type {\n",
       "        vertical-align: middle;\n",
       "    }\n",
       "\n",
       "    .dataframe tbody tr th {\n",
       "        vertical-align: top;\n",
       "    }\n",
       "\n",
       "    .dataframe thead th {\n",
       "        text-align: right;\n",
       "    }\n",
       "</style>\n",
       "<table border=\"1\" class=\"dataframe\">\n",
       "  <thead>\n",
       "    <tr style=\"text-align: right;\">\n",
       "      <th></th>\n",
       "      <th>Age</th>\n",
       "      <th>Attrition</th>\n",
       "      <th>BusinessTravel</th>\n",
       "      <th>DailyRate</th>\n",
       "      <th>Department</th>\n",
       "      <th>DistanceFromHome</th>\n",
       "      <th>Education</th>\n",
       "      <th>EducationField</th>\n",
       "      <th>EmployeeCount</th>\n",
       "      <th>EmployeeNumber</th>\n",
       "      <th>...</th>\n",
       "      <th>RelationshipSatisfaction</th>\n",
       "      <th>StandardHours</th>\n",
       "      <th>StockOptionLevel</th>\n",
       "      <th>TotalWorkingYears</th>\n",
       "      <th>TrainingTimesLastYear</th>\n",
       "      <th>WorkLifeBalance</th>\n",
       "      <th>YearsAtCompany</th>\n",
       "      <th>YearsInCurrentRole</th>\n",
       "      <th>YearsSinceLastPromotion</th>\n",
       "      <th>YearsWithCurrManager</th>\n",
       "    </tr>\n",
       "  </thead>\n",
       "  <tbody>\n",
       "    <tr>\n",
       "      <th>0</th>\n",
       "      <td>41</td>\n",
       "      <td>Yes</td>\n",
       "      <td>Travel_Rarely</td>\n",
       "      <td>1102</td>\n",
       "      <td>Sales</td>\n",
       "      <td>1</td>\n",
       "      <td>2</td>\n",
       "      <td>Life Sciences</td>\n",
       "      <td>1</td>\n",
       "      <td>1</td>\n",
       "      <td>...</td>\n",
       "      <td>1</td>\n",
       "      <td>80</td>\n",
       "      <td>0</td>\n",
       "      <td>8</td>\n",
       "      <td>0</td>\n",
       "      <td>1</td>\n",
       "      <td>6</td>\n",
       "      <td>4</td>\n",
       "      <td>0</td>\n",
       "      <td>5</td>\n",
       "    </tr>\n",
       "    <tr>\n",
       "      <th>1</th>\n",
       "      <td>49</td>\n",
       "      <td>No</td>\n",
       "      <td>Travel_Frequently</td>\n",
       "      <td>279</td>\n",
       "      <td>Research &amp; Development</td>\n",
       "      <td>8</td>\n",
       "      <td>1</td>\n",
       "      <td>Life Sciences</td>\n",
       "      <td>1</td>\n",
       "      <td>2</td>\n",
       "      <td>...</td>\n",
       "      <td>4</td>\n",
       "      <td>80</td>\n",
       "      <td>1</td>\n",
       "      <td>10</td>\n",
       "      <td>3</td>\n",
       "      <td>3</td>\n",
       "      <td>10</td>\n",
       "      <td>7</td>\n",
       "      <td>1</td>\n",
       "      <td>7</td>\n",
       "    </tr>\n",
       "    <tr>\n",
       "      <th>2</th>\n",
       "      <td>37</td>\n",
       "      <td>Yes</td>\n",
       "      <td>Travel_Rarely</td>\n",
       "      <td>1373</td>\n",
       "      <td>Research &amp; Development</td>\n",
       "      <td>2</td>\n",
       "      <td>2</td>\n",
       "      <td>Other</td>\n",
       "      <td>1</td>\n",
       "      <td>4</td>\n",
       "      <td>...</td>\n",
       "      <td>2</td>\n",
       "      <td>80</td>\n",
       "      <td>0</td>\n",
       "      <td>7</td>\n",
       "      <td>3</td>\n",
       "      <td>3</td>\n",
       "      <td>0</td>\n",
       "      <td>0</td>\n",
       "      <td>0</td>\n",
       "      <td>0</td>\n",
       "    </tr>\n",
       "    <tr>\n",
       "      <th>3</th>\n",
       "      <td>33</td>\n",
       "      <td>No</td>\n",
       "      <td>Travel_Frequently</td>\n",
       "      <td>1392</td>\n",
       "      <td>Research &amp; Development</td>\n",
       "      <td>3</td>\n",
       "      <td>4</td>\n",
       "      <td>Life Sciences</td>\n",
       "      <td>1</td>\n",
       "      <td>5</td>\n",
       "      <td>...</td>\n",
       "      <td>3</td>\n",
       "      <td>80</td>\n",
       "      <td>0</td>\n",
       "      <td>8</td>\n",
       "      <td>3</td>\n",
       "      <td>3</td>\n",
       "      <td>8</td>\n",
       "      <td>7</td>\n",
       "      <td>3</td>\n",
       "      <td>0</td>\n",
       "    </tr>\n",
       "    <tr>\n",
       "      <th>4</th>\n",
       "      <td>27</td>\n",
       "      <td>No</td>\n",
       "      <td>Travel_Rarely</td>\n",
       "      <td>591</td>\n",
       "      <td>Research &amp; Development</td>\n",
       "      <td>2</td>\n",
       "      <td>1</td>\n",
       "      <td>Medical</td>\n",
       "      <td>1</td>\n",
       "      <td>7</td>\n",
       "      <td>...</td>\n",
       "      <td>4</td>\n",
       "      <td>80</td>\n",
       "      <td>1</td>\n",
       "      <td>6</td>\n",
       "      <td>3</td>\n",
       "      <td>3</td>\n",
       "      <td>2</td>\n",
       "      <td>2</td>\n",
       "      <td>2</td>\n",
       "      <td>2</td>\n",
       "    </tr>\n",
       "  </tbody>\n",
       "</table>\n",
       "<p>5 rows × 35 columns</p>\n",
       "</div>"
      ],
      "text/plain": [
       "   Age Attrition     BusinessTravel  DailyRate              Department  \\\n",
       "0   41       Yes      Travel_Rarely       1102                   Sales   \n",
       "1   49        No  Travel_Frequently        279  Research & Development   \n",
       "2   37       Yes      Travel_Rarely       1373  Research & Development   \n",
       "3   33        No  Travel_Frequently       1392  Research & Development   \n",
       "4   27        No      Travel_Rarely        591  Research & Development   \n",
       "\n",
       "   DistanceFromHome  Education EducationField  EmployeeCount  EmployeeNumber  \\\n",
       "0                 1          2  Life Sciences              1               1   \n",
       "1                 8          1  Life Sciences              1               2   \n",
       "2                 2          2          Other              1               4   \n",
       "3                 3          4  Life Sciences              1               5   \n",
       "4                 2          1        Medical              1               7   \n",
       "\n",
       "   ...  RelationshipSatisfaction StandardHours  StockOptionLevel  \\\n",
       "0  ...                         1            80                 0   \n",
       "1  ...                         4            80                 1   \n",
       "2  ...                         2            80                 0   \n",
       "3  ...                         3            80                 0   \n",
       "4  ...                         4            80                 1   \n",
       "\n",
       "   TotalWorkingYears  TrainingTimesLastYear WorkLifeBalance  YearsAtCompany  \\\n",
       "0                  8                      0               1               6   \n",
       "1                 10                      3               3              10   \n",
       "2                  7                      3               3               0   \n",
       "3                  8                      3               3               8   \n",
       "4                  6                      3               3               2   \n",
       "\n",
       "  YearsInCurrentRole  YearsSinceLastPromotion  YearsWithCurrManager  \n",
       "0                  4                        0                     5  \n",
       "1                  7                        1                     7  \n",
       "2                  0                        0                     0  \n",
       "3                  7                        3                     0  \n",
       "4                  2                        2                     2  \n",
       "\n",
       "[5 rows x 35 columns]"
      ]
     },
     "execution_count": 3,
     "metadata": {},
     "output_type": "execute_result"
    }
   ],
   "source": [
    "#printing top 5 records from the top of dataset\n",
    "dataframe.head(5)"
   ]
  },
  {
   "cell_type": "code",
   "execution_count": 4,
   "metadata": {},
   "outputs": [],
   "source": [
    "#removing useless columns\n",
    "del dataframe['EmployeeCount']\n",
    "del dataframe['StandardHours']\n",
    "del dataframe['Over18']"
   ]
  },
  {
   "cell_type": "code",
   "execution_count": 5,
   "metadata": {},
   "outputs": [
    {
     "data": {
      "text/html": [
       "<div>\n",
       "<style scoped>\n",
       "    .dataframe tbody tr th:only-of-type {\n",
       "        vertical-align: middle;\n",
       "    }\n",
       "\n",
       "    .dataframe tbody tr th {\n",
       "        vertical-align: top;\n",
       "    }\n",
       "\n",
       "    .dataframe thead th {\n",
       "        text-align: right;\n",
       "    }\n",
       "</style>\n",
       "<table border=\"1\" class=\"dataframe\">\n",
       "  <thead>\n",
       "    <tr style=\"text-align: right;\">\n",
       "      <th></th>\n",
       "      <th>Age</th>\n",
       "      <th>Attrition</th>\n",
       "      <th>BusinessTravel</th>\n",
       "      <th>DailyRate</th>\n",
       "      <th>Department</th>\n",
       "      <th>DistanceFromHome</th>\n",
       "      <th>Education</th>\n",
       "      <th>EducationField</th>\n",
       "      <th>EmployeeNumber</th>\n",
       "      <th>EnvironmentSatisfaction</th>\n",
       "      <th>...</th>\n",
       "      <th>PerformanceRating</th>\n",
       "      <th>RelationshipSatisfaction</th>\n",
       "      <th>StockOptionLevel</th>\n",
       "      <th>TotalWorkingYears</th>\n",
       "      <th>TrainingTimesLastYear</th>\n",
       "      <th>WorkLifeBalance</th>\n",
       "      <th>YearsAtCompany</th>\n",
       "      <th>YearsInCurrentRole</th>\n",
       "      <th>YearsSinceLastPromotion</th>\n",
       "      <th>YearsWithCurrManager</th>\n",
       "    </tr>\n",
       "  </thead>\n",
       "  <tbody>\n",
       "    <tr>\n",
       "      <th>0</th>\n",
       "      <td>41</td>\n",
       "      <td>Yes</td>\n",
       "      <td>Travel_Rarely</td>\n",
       "      <td>1102</td>\n",
       "      <td>Sales</td>\n",
       "      <td>1</td>\n",
       "      <td>2</td>\n",
       "      <td>Life Sciences</td>\n",
       "      <td>1</td>\n",
       "      <td>2</td>\n",
       "      <td>...</td>\n",
       "      <td>3</td>\n",
       "      <td>1</td>\n",
       "      <td>0</td>\n",
       "      <td>8</td>\n",
       "      <td>0</td>\n",
       "      <td>1</td>\n",
       "      <td>6</td>\n",
       "      <td>4</td>\n",
       "      <td>0</td>\n",
       "      <td>5</td>\n",
       "    </tr>\n",
       "    <tr>\n",
       "      <th>1</th>\n",
       "      <td>49</td>\n",
       "      <td>No</td>\n",
       "      <td>Travel_Frequently</td>\n",
       "      <td>279</td>\n",
       "      <td>Research &amp; Development</td>\n",
       "      <td>8</td>\n",
       "      <td>1</td>\n",
       "      <td>Life Sciences</td>\n",
       "      <td>2</td>\n",
       "      <td>3</td>\n",
       "      <td>...</td>\n",
       "      <td>4</td>\n",
       "      <td>4</td>\n",
       "      <td>1</td>\n",
       "      <td>10</td>\n",
       "      <td>3</td>\n",
       "      <td>3</td>\n",
       "      <td>10</td>\n",
       "      <td>7</td>\n",
       "      <td>1</td>\n",
       "      <td>7</td>\n",
       "    </tr>\n",
       "    <tr>\n",
       "      <th>2</th>\n",
       "      <td>37</td>\n",
       "      <td>Yes</td>\n",
       "      <td>Travel_Rarely</td>\n",
       "      <td>1373</td>\n",
       "      <td>Research &amp; Development</td>\n",
       "      <td>2</td>\n",
       "      <td>2</td>\n",
       "      <td>Other</td>\n",
       "      <td>4</td>\n",
       "      <td>4</td>\n",
       "      <td>...</td>\n",
       "      <td>3</td>\n",
       "      <td>2</td>\n",
       "      <td>0</td>\n",
       "      <td>7</td>\n",
       "      <td>3</td>\n",
       "      <td>3</td>\n",
       "      <td>0</td>\n",
       "      <td>0</td>\n",
       "      <td>0</td>\n",
       "      <td>0</td>\n",
       "    </tr>\n",
       "    <tr>\n",
       "      <th>3</th>\n",
       "      <td>33</td>\n",
       "      <td>No</td>\n",
       "      <td>Travel_Frequently</td>\n",
       "      <td>1392</td>\n",
       "      <td>Research &amp; Development</td>\n",
       "      <td>3</td>\n",
       "      <td>4</td>\n",
       "      <td>Life Sciences</td>\n",
       "      <td>5</td>\n",
       "      <td>4</td>\n",
       "      <td>...</td>\n",
       "      <td>3</td>\n",
       "      <td>3</td>\n",
       "      <td>0</td>\n",
       "      <td>8</td>\n",
       "      <td>3</td>\n",
       "      <td>3</td>\n",
       "      <td>8</td>\n",
       "      <td>7</td>\n",
       "      <td>3</td>\n",
       "      <td>0</td>\n",
       "    </tr>\n",
       "    <tr>\n",
       "      <th>4</th>\n",
       "      <td>27</td>\n",
       "      <td>No</td>\n",
       "      <td>Travel_Rarely</td>\n",
       "      <td>591</td>\n",
       "      <td>Research &amp; Development</td>\n",
       "      <td>2</td>\n",
       "      <td>1</td>\n",
       "      <td>Medical</td>\n",
       "      <td>7</td>\n",
       "      <td>1</td>\n",
       "      <td>...</td>\n",
       "      <td>3</td>\n",
       "      <td>4</td>\n",
       "      <td>1</td>\n",
       "      <td>6</td>\n",
       "      <td>3</td>\n",
       "      <td>3</td>\n",
       "      <td>2</td>\n",
       "      <td>2</td>\n",
       "      <td>2</td>\n",
       "      <td>2</td>\n",
       "    </tr>\n",
       "  </tbody>\n",
       "</table>\n",
       "<p>5 rows × 32 columns</p>\n",
       "</div>"
      ],
      "text/plain": [
       "   Age Attrition     BusinessTravel  DailyRate              Department  \\\n",
       "0   41       Yes      Travel_Rarely       1102                   Sales   \n",
       "1   49        No  Travel_Frequently        279  Research & Development   \n",
       "2   37       Yes      Travel_Rarely       1373  Research & Development   \n",
       "3   33        No  Travel_Frequently       1392  Research & Development   \n",
       "4   27        No      Travel_Rarely        591  Research & Development   \n",
       "\n",
       "   DistanceFromHome  Education EducationField  EmployeeNumber  \\\n",
       "0                 1          2  Life Sciences               1   \n",
       "1                 8          1  Life Sciences               2   \n",
       "2                 2          2          Other               4   \n",
       "3                 3          4  Life Sciences               5   \n",
       "4                 2          1        Medical               7   \n",
       "\n",
       "   EnvironmentSatisfaction  ... PerformanceRating  RelationshipSatisfaction  \\\n",
       "0                        2  ...                 3                         1   \n",
       "1                        3  ...                 4                         4   \n",
       "2                        4  ...                 3                         2   \n",
       "3                        4  ...                 3                         3   \n",
       "4                        1  ...                 3                         4   \n",
       "\n",
       "   StockOptionLevel  TotalWorkingYears TrainingTimesLastYear  WorkLifeBalance  \\\n",
       "0                 0                  8                     0                1   \n",
       "1                 1                 10                     3                3   \n",
       "2                 0                  7                     3                3   \n",
       "3                 0                  8                     3                3   \n",
       "4                 1                  6                     3                3   \n",
       "\n",
       "  YearsAtCompany  YearsInCurrentRole  YearsSinceLastPromotion  \\\n",
       "0              6                   4                        0   \n",
       "1             10                   7                        1   \n",
       "2              0                   0                        0   \n",
       "3              8                   7                        3   \n",
       "4              2                   2                        2   \n",
       "\n",
       "   YearsWithCurrManager  \n",
       "0                     5  \n",
       "1                     7  \n",
       "2                     0  \n",
       "3                     0  \n",
       "4                     2  \n",
       "\n",
       "[5 rows x 32 columns]"
      ]
     },
     "execution_count": 5,
     "metadata": {},
     "output_type": "execute_result"
    }
   ],
   "source": [
    "dataframe.head(5)"
   ]
  },
  {
   "cell_type": "code",
   "execution_count": 6,
   "metadata": {},
   "outputs": [
    {
     "name": "stdout",
     "output_type": "stream",
     "text": [
      "Rows: 1470\n",
      "Columns: 32\n"
     ]
    }
   ],
   "source": [
    "#printing rows & columns of our dataset\n",
    "print(f\"Rows: {dataframe.shape[0]}\\nColumns: {dataframe.shape[1]}\")"
   ]
  },
  {
   "cell_type": "code",
   "execution_count": 7,
   "metadata": {},
   "outputs": [
    {
     "data": {
      "text/plain": [
       "Age                         0\n",
       "Attrition                   0\n",
       "BusinessTravel              0\n",
       "DailyRate                   0\n",
       "Department                  0\n",
       "DistanceFromHome            0\n",
       "Education                   0\n",
       "EducationField              0\n",
       "EmployeeNumber              0\n",
       "EnvironmentSatisfaction     0\n",
       "Gender                      0\n",
       "HourlyRate                  0\n",
       "JobInvolvement              0\n",
       "JobLevel                    0\n",
       "JobRole                     0\n",
       "JobSatisfaction             0\n",
       "MaritalStatus               0\n",
       "MonthlyIncome               0\n",
       "MonthlyRate                 0\n",
       "NumCompaniesWorked          0\n",
       "OverTime                    0\n",
       "PercentSalaryHike           0\n",
       "PerformanceRating           0\n",
       "RelationshipSatisfaction    0\n",
       "StockOptionLevel            0\n",
       "TotalWorkingYears           0\n",
       "TrainingTimesLastYear       0\n",
       "WorkLifeBalance             0\n",
       "YearsAtCompany              0\n",
       "YearsInCurrentRole          0\n",
       "YearsSinceLastPromotion     0\n",
       "YearsWithCurrManager        0\n",
       "dtype: int64"
      ]
     },
     "execution_count": 7,
     "metadata": {},
     "output_type": "execute_result"
    }
   ],
   "source": [
    "#checking whether dataset has any NULL values\n",
    "dataframe.isnull().sum()"
   ]
  },
  {
   "cell_type": "markdown",
   "metadata": {},
   "source": [
    "- All columns are named properly\n",
    "- No null values present in our dataset"
   ]
  },
  {
   "cell_type": "code",
   "execution_count": 8,
   "metadata": {},
   "outputs": [
    {
     "data": {
      "text/html": [
       "<div>\n",
       "<style scoped>\n",
       "    .dataframe tbody tr th:only-of-type {\n",
       "        vertical-align: middle;\n",
       "    }\n",
       "\n",
       "    .dataframe tbody tr th {\n",
       "        vertical-align: top;\n",
       "    }\n",
       "\n",
       "    .dataframe thead th {\n",
       "        text-align: right;\n",
       "    }\n",
       "</style>\n",
       "<table border=\"1\" class=\"dataframe\">\n",
       "  <thead>\n",
       "    <tr style=\"text-align: right;\">\n",
       "      <th></th>\n",
       "      <th>Age</th>\n",
       "      <th>Attrition</th>\n",
       "      <th>BusinessTravel</th>\n",
       "      <th>DailyRate</th>\n",
       "      <th>Department</th>\n",
       "      <th>DistanceFromHome</th>\n",
       "      <th>Education</th>\n",
       "      <th>EducationField</th>\n",
       "      <th>EmployeeNumber</th>\n",
       "      <th>EnvironmentSatisfaction</th>\n",
       "      <th>...</th>\n",
       "      <th>PerformanceRating</th>\n",
       "      <th>RelationshipSatisfaction</th>\n",
       "      <th>StockOptionLevel</th>\n",
       "      <th>TotalWorkingYears</th>\n",
       "      <th>TrainingTimesLastYear</th>\n",
       "      <th>WorkLifeBalance</th>\n",
       "      <th>YearsAtCompany</th>\n",
       "      <th>YearsInCurrentRole</th>\n",
       "      <th>YearsSinceLastPromotion</th>\n",
       "      <th>YearsWithCurrManager</th>\n",
       "    </tr>\n",
       "  </thead>\n",
       "  <tbody>\n",
       "    <tr>\n",
       "      <th>0</th>\n",
       "      <td>41</td>\n",
       "      <td>Yes</td>\n",
       "      <td>Travel_Rarely</td>\n",
       "      <td>1102</td>\n",
       "      <td>Sales</td>\n",
       "      <td>1</td>\n",
       "      <td>2</td>\n",
       "      <td>Life Sciences</td>\n",
       "      <td>1</td>\n",
       "      <td>2</td>\n",
       "      <td>...</td>\n",
       "      <td>3</td>\n",
       "      <td>1</td>\n",
       "      <td>0</td>\n",
       "      <td>8</td>\n",
       "      <td>0</td>\n",
       "      <td>1</td>\n",
       "      <td>6</td>\n",
       "      <td>4</td>\n",
       "      <td>0</td>\n",
       "      <td>5</td>\n",
       "    </tr>\n",
       "    <tr>\n",
       "      <th>1</th>\n",
       "      <td>49</td>\n",
       "      <td>No</td>\n",
       "      <td>Travel_Frequently</td>\n",
       "      <td>279</td>\n",
       "      <td>Research &amp; Development</td>\n",
       "      <td>8</td>\n",
       "      <td>1</td>\n",
       "      <td>Life Sciences</td>\n",
       "      <td>2</td>\n",
       "      <td>3</td>\n",
       "      <td>...</td>\n",
       "      <td>4</td>\n",
       "      <td>4</td>\n",
       "      <td>1</td>\n",
       "      <td>10</td>\n",
       "      <td>3</td>\n",
       "      <td>3</td>\n",
       "      <td>10</td>\n",
       "      <td>7</td>\n",
       "      <td>1</td>\n",
       "      <td>7</td>\n",
       "    </tr>\n",
       "    <tr>\n",
       "      <th>2</th>\n",
       "      <td>37</td>\n",
       "      <td>Yes</td>\n",
       "      <td>Travel_Rarely</td>\n",
       "      <td>1373</td>\n",
       "      <td>Research &amp; Development</td>\n",
       "      <td>2</td>\n",
       "      <td>2</td>\n",
       "      <td>Other</td>\n",
       "      <td>4</td>\n",
       "      <td>4</td>\n",
       "      <td>...</td>\n",
       "      <td>3</td>\n",
       "      <td>2</td>\n",
       "      <td>0</td>\n",
       "      <td>7</td>\n",
       "      <td>3</td>\n",
       "      <td>3</td>\n",
       "      <td>0</td>\n",
       "      <td>0</td>\n",
       "      <td>0</td>\n",
       "      <td>0</td>\n",
       "    </tr>\n",
       "    <tr>\n",
       "      <th>3</th>\n",
       "      <td>33</td>\n",
       "      <td>No</td>\n",
       "      <td>Travel_Frequently</td>\n",
       "      <td>1392</td>\n",
       "      <td>Research &amp; Development</td>\n",
       "      <td>3</td>\n",
       "      <td>4</td>\n",
       "      <td>Life Sciences</td>\n",
       "      <td>5</td>\n",
       "      <td>4</td>\n",
       "      <td>...</td>\n",
       "      <td>3</td>\n",
       "      <td>3</td>\n",
       "      <td>0</td>\n",
       "      <td>8</td>\n",
       "      <td>3</td>\n",
       "      <td>3</td>\n",
       "      <td>8</td>\n",
       "      <td>7</td>\n",
       "      <td>3</td>\n",
       "      <td>0</td>\n",
       "    </tr>\n",
       "    <tr>\n",
       "      <th>4</th>\n",
       "      <td>27</td>\n",
       "      <td>No</td>\n",
       "      <td>Travel_Rarely</td>\n",
       "      <td>591</td>\n",
       "      <td>Research &amp; Development</td>\n",
       "      <td>2</td>\n",
       "      <td>1</td>\n",
       "      <td>Medical</td>\n",
       "      <td>7</td>\n",
       "      <td>1</td>\n",
       "      <td>...</td>\n",
       "      <td>3</td>\n",
       "      <td>4</td>\n",
       "      <td>1</td>\n",
       "      <td>6</td>\n",
       "      <td>3</td>\n",
       "      <td>3</td>\n",
       "      <td>2</td>\n",
       "      <td>2</td>\n",
       "      <td>2</td>\n",
       "      <td>2</td>\n",
       "    </tr>\n",
       "  </tbody>\n",
       "</table>\n",
       "<p>5 rows × 32 columns</p>\n",
       "</div>"
      ],
      "text/plain": [
       "   Age Attrition     BusinessTravel  DailyRate              Department  \\\n",
       "0   41       Yes      Travel_Rarely       1102                   Sales   \n",
       "1   49        No  Travel_Frequently        279  Research & Development   \n",
       "2   37       Yes      Travel_Rarely       1373  Research & Development   \n",
       "3   33        No  Travel_Frequently       1392  Research & Development   \n",
       "4   27        No      Travel_Rarely        591  Research & Development   \n",
       "\n",
       "   DistanceFromHome  Education EducationField  EmployeeNumber  \\\n",
       "0                 1          2  Life Sciences               1   \n",
       "1                 8          1  Life Sciences               2   \n",
       "2                 2          2          Other               4   \n",
       "3                 3          4  Life Sciences               5   \n",
       "4                 2          1        Medical               7   \n",
       "\n",
       "   EnvironmentSatisfaction  ... PerformanceRating  RelationshipSatisfaction  \\\n",
       "0                        2  ...                 3                         1   \n",
       "1                        3  ...                 4                         4   \n",
       "2                        4  ...                 3                         2   \n",
       "3                        4  ...                 3                         3   \n",
       "4                        1  ...                 3                         4   \n",
       "\n",
       "   StockOptionLevel  TotalWorkingYears TrainingTimesLastYear  WorkLifeBalance  \\\n",
       "0                 0                  8                     0                1   \n",
       "1                 1                 10                     3                3   \n",
       "2                 0                  7                     3                3   \n",
       "3                 0                  8                     3                3   \n",
       "4                 1                  6                     3                3   \n",
       "\n",
       "  YearsAtCompany  YearsInCurrentRole  YearsSinceLastPromotion  \\\n",
       "0              6                   4                        0   \n",
       "1             10                   7                        1   \n",
       "2              0                   0                        0   \n",
       "3              8                   7                        3   \n",
       "4              2                   2                        2   \n",
       "\n",
       "   YearsWithCurrManager  \n",
       "0                     5  \n",
       "1                     7  \n",
       "2                     0  \n",
       "3                     0  \n",
       "4                     2  \n",
       "\n",
       "[5 rows x 32 columns]"
      ]
     },
     "execution_count": 8,
     "metadata": {},
     "output_type": "execute_result"
    }
   ],
   "source": [
    "dataframe.head(5)"
   ]
  },
  {
   "cell_type": "markdown",
   "metadata": {},
   "source": [
    "### 4. Analyse"
   ]
  },
  {
   "cell_type": "markdown",
   "metadata": {},
   "source": [
    "KPI's"
   ]
  },
  {
   "cell_type": "code",
   "execution_count": 9,
   "metadata": {},
   "outputs": [
    {
     "name": "stdout",
     "output_type": "stream",
     "text": [
      "No. of employee's: 1470\n"
     ]
    }
   ],
   "source": [
    "#finding number of employee's\n",
    "print(f\"No. of employee's: {len(dataframe)}\")"
   ]
  },
  {
   "cell_type": "code",
   "execution_count": 10,
   "metadata": {},
   "outputs": [
    {
     "name": "stdout",
     "output_type": "stream",
     "text": [
      "No. of attrition: 237\n"
     ]
    }
   ],
   "source": [
    "#finding number of attrition's\n",
    "attrition_count = 0\n",
    "for i in range(len(dataframe['Attrition'])):\n",
    "    if dataframe['Attrition'][i] == 'Yes':\n",
    "        attrition_count += 1\n",
    "\n",
    "print(f\"No. of attrition: {attrition_count}\")"
   ]
  },
  {
   "cell_type": "code",
   "execution_count": 24,
   "metadata": {},
   "outputs": [
    {
     "name": "stdout",
     "output_type": "stream",
     "text": [
      "Attrition rate: 16.1 %\n"
     ]
    }
   ],
   "source": [
    "#finding attrition rate\n",
    "print(f\"Attrition rate: {round((attrition_count/len(dataframe['Attrition']))*100, 1)} %\")"
   ]
  },
  {
   "cell_type": "code",
   "execution_count": 96,
   "metadata": {},
   "outputs": [
    {
     "name": "stdout",
     "output_type": "stream",
     "text": [
      "Average age: 37\n"
     ]
    }
   ],
   "source": [
    "#finding average age\n",
    "print(f\"Average age: {round(dataframe['Age'].mean(), 0).astype(int)}\")"
   ]
  },
  {
   "cell_type": "code",
   "execution_count": 97,
   "metadata": {},
   "outputs": [
    {
     "name": "stdout",
     "output_type": "stream",
     "text": [
      "Average salary: $ 6503\n"
     ]
    }
   ],
   "source": [
    "#finding average salary\n",
    "print(f\"Average salary: $ {round(dataframe['MonthlyIncome'].mean(), 0).astype(int)}\")"
   ]
  },
  {
   "cell_type": "code",
   "execution_count": 23,
   "metadata": {},
   "outputs": [
    {
     "name": "stdout",
     "output_type": "stream",
     "text": [
      "Average years: 7.0\n"
     ]
    }
   ],
   "source": [
    "#finding average years\n",
    "print(f\"Average years: {round(dataframe['YearsAtCompany'].mean(), 1)}\")"
   ]
  },
  {
   "cell_type": "markdown",
   "metadata": {},
   "source": [
    "Cards"
   ]
  },
  {
   "cell_type": "code",
   "execution_count": 114,
   "metadata": {},
   "outputs": [
    {
     "name": "stdout",
     "output_type": "stream",
     "text": [
      "Male: 882\n",
      "Female: 588\n"
     ]
    }
   ],
   "source": [
    "#segregating employees by gender\n",
    "gender_count = dataframe['Gender'].value_counts()\n",
    "print(f\"Male: {gender_count.iloc[0]}\")\n",
    "print(f\"Female: {gender_count.iloc[1]}\")"
   ]
  },
  {
   "cell_type": "code",
   "execution_count": 110,
   "metadata": {},
   "outputs": [
    {
     "name": "stdout",
     "output_type": "stream",
     "text": [
      "Attrition by Gender:\n",
      "Male: 150\n",
      "Female: 87\n"
     ]
    }
   ],
   "source": [
    "#finding attrition by gender\n",
    "male_attrition_count = 0\n",
    "female_attrition_count = 0\n",
    "\n",
    "for i in range(len(dataframe)):\n",
    "    if dataframe['Attrition'][i] == 'Yes':\n",
    "        if dataframe['Gender'][i] == 'Male':\n",
    "            male_attrition_count += 1\n",
    "        elif dataframe['Gender'][i] == 'Female':\n",
    "            female_attrition_count += 1\n",
    "\n",
    "print(\"Attrition by Gender:\")\n",
    "print(f\"Male: {male_attrition_count}\")\n",
    "print(f\"Female: {female_attrition_count}\")"
   ]
  },
  {
   "cell_type": "code",
   "execution_count": 86,
   "metadata": {},
   "outputs": [
    {
     "name": "stdout",
     "output_type": "stream",
     "text": [
      "No. of job roles: 9\n",
      "\n",
      "Attrition by Job Role:\n",
      "Sales Executive: 57\n",
      "Research Scientist: 47\n",
      "Laboratory Technician: 62\n",
      "Manufacturing Director: 10\n",
      "Healthcare Representative: 9\n",
      "Manager: 5\n",
      "Sales Representative: 33\n",
      "Research Director: 2\n",
      "Human Resources: 12\n"
     ]
    }
   ],
   "source": [
    "#finding attrition by job role\n",
    "unique_job_role = dataframe['JobRole'].unique()\n",
    "print(f\"No. of job roles: {len(unique_job_role)}\")\n",
    "print()\n",
    "sales_executive_count = 0\n",
    "research_scientist_count = 0\n",
    "laboratory_technician_count = 0\n",
    "manufacturing_director_count = 0\n",
    "healthcare_representative_count = 0\n",
    "manager_count = 0\n",
    "sales_representative_count = 0\n",
    "research_director_count = 0\n",
    "human_resources_count = 0\n",
    "\n",
    "for i in range(len(dataframe)):\n",
    "    if dataframe['Attrition'][i] == 'Yes':\n",
    "        if dataframe['JobRole'][i] == 'Sales Executive':\n",
    "            sales_executive_count += 1\n",
    "        elif dataframe['JobRole'][i] == 'Research Scientist':\n",
    "            research_scientist_count += 1\n",
    "        elif dataframe['JobRole'][i] == 'Laboratory Technician':\n",
    "            laboratory_technician_count += 1\n",
    "        elif dataframe['JobRole'][i] == 'Manufacturing Director':\n",
    "            manufacturing_director_count += 1\n",
    "        elif dataframe['JobRole'][i] == 'Healthcare Representative':\n",
    "            healthcare_representative_count += 1\n",
    "        elif dataframe['JobRole'][i] == 'Manager':\n",
    "            manager_count += 1\n",
    "        elif dataframe['JobRole'][i] == 'Sales Representative':\n",
    "            sales_representative_count += 1\n",
    "        elif dataframe['JobRole'][i] == 'Research Director':\n",
    "            research_director_count += 1\n",
    "        elif dataframe['JobRole'][i] == 'Human Resources':\n",
    "            human_resources_count += 1\n",
    "\n",
    "print(\"Attrition by Job Role:\")\n",
    "print(f\"Sales Executive: {sales_executive_count}\")\n",
    "print(f\"Research Scientist: {research_scientist_count}\")\n",
    "print(f\"Laboratory Technician: {laboratory_technician_count}\")\n",
    "print(f\"Manufacturing Director: {manufacturing_director_count}\")\n",
    "print(f\"Healthcare Representative: {healthcare_representative_count}\")\n",
    "print(f\"Manager: {manager_count}\")\n",
    "print(f\"Sales Representative: {sales_representative_count}\")\n",
    "print(f\"Research Director: {research_director_count}\")\n",
    "print(f\"Human Resources: {human_resources_count}\")"
   ]
  },
  {
   "cell_type": "code",
   "execution_count": 95,
   "metadata": {},
   "outputs": [
    {
     "name": "stdout",
     "output_type": "stream",
     "text": [
      "Attrition from (18 - 25) yrs: 44\n",
      "Attrition from (26 - 35) yrs: 116\n",
      "Attrition from (36 - 45) yrs: 43\n",
      "Attrition from (46 - 55) yrs: 26\n",
      "Attrition from (56 - 60) yrs: 8\n"
     ]
    }
   ],
   "source": [
    "#finding attrition by age\n",
    "count_age_18_to_25 = 0\n",
    "count_age_26_to_35 = 0\n",
    "count_age_36_to_45 = 0\n",
    "count_age_46_to_55 = 0\n",
    "count_age_56_to_60 = 0\n",
    "\n",
    "for i in range(len(dataframe)):\n",
    "    if dataframe['Attrition'][i] == 'Yes':\n",
    "        if dataframe['Age'][i] >= 18 and dataframe['Age'][i] <= 25:\n",
    "            count_age_18_to_25 += 1\n",
    "        elif dataframe['Age'][i] >= 26 and dataframe['Age'][i] <= 35:\n",
    "            count_age_26_to_35 += 1\n",
    "        elif dataframe['Age'][i] >= 36 and dataframe['Age'][i] <= 45:\n",
    "            count_age_36_to_45 += 1\n",
    "        elif dataframe['Age'][i] >= 46 and dataframe['Age'][i] <= 55:\n",
    "            count_age_46_to_55 += 1\n",
    "        elif dataframe['Age'][i] >= 56 and dataframe['Age'][i] <= 60:\n",
    "            count_age_56_to_60 += 1\n",
    "\n",
    "print(f\"Attrition from (18 - 25) yrs: {count_age_18_to_25}\")\n",
    "print(f\"Attrition from (26 - 35) yrs: {count_age_26_to_35}\")\n",
    "print(f\"Attrition from (36 - 45) yrs: {count_age_36_to_45}\")\n",
    "print(f\"Attrition from (46 - 55) yrs: {count_age_46_to_55}\")\n",
    "print(f\"Attrition from (56 - 60) yrs: {count_age_56_to_60}\")"
   ]
  },
  {
   "cell_type": "code",
   "execution_count": 99,
   "metadata": {},
   "outputs": [
    {
     "name": "stdout",
     "output_type": "stream",
     "text": [
      "Attrition salary band from upto 2k: 18\n",
      "Attrition salary band from 2k - 5k: 145\n",
      "Attrition salary band from 5k - 10k: 49\n",
      "Attrition salary band from 10k - 15k: 20\n",
      "Attrition salary band from 15k plus: 5\n"
     ]
    }
   ],
   "source": [
    "#finding attrition by salary\n",
    "count_monthly_income_upto_2k = 0\n",
    "count_monthly_income_upto_5k = 0\n",
    "count_monthly_income_upto_10k = 0\n",
    "count_monthly_income_upto_15k = 0\n",
    "count_monthly_income_upto_15kplus = 0\n",
    "for i in range(len(dataframe)):\n",
    "    if dataframe['Attrition'][i] == 'Yes':\n",
    "        if dataframe['MonthlyIncome'][i] <= 2000:\n",
    "            count_monthly_income_upto_2k += 1\n",
    "        elif dataframe['MonthlyIncome'][i] >= 2001 and dataframe['MonthlyIncome'][i] <= 5000:\n",
    "            count_monthly_income_upto_5k += 1\n",
    "        elif dataframe['MonthlyIncome'][i] >= 5001 and dataframe['MonthlyIncome'][i] <= 10000:\n",
    "            count_monthly_income_upto_10k += 1\n",
    "        elif dataframe['MonthlyIncome'][i] >= 10001 and dataframe['MonthlyIncome'][i] <= 15000:\n",
    "            count_monthly_income_upto_15k += 1\n",
    "        elif dataframe['MonthlyIncome'][i] >= 15001:\n",
    "            count_monthly_income_upto_15kplus += 1\n",
    "\n",
    "print(f\"Attrition salary band from upto 2k: {count_monthly_income_upto_2k}\")\n",
    "print(f\"Attrition salary band from 2k - 5k: {count_monthly_income_upto_5k}\")\n",
    "print(f\"Attrition salary band from 5k - 10k: {count_monthly_income_upto_10k}\")\n",
    "print(f\"Attrition salary band from 10k - 15k: {count_monthly_income_upto_15k}\")\n",
    "print(f\"Attrition salary band from 15k plus: {count_monthly_income_upto_15kplus}\")"
   ]
  },
  {
   "cell_type": "code",
   "execution_count": 107,
   "metadata": {},
   "outputs": [
    {
     "name": "stdout",
     "output_type": "stream",
     "text": [
      "No. of education field: 6\n",
      "\n",
      "Attrition by Education:\n",
      "Life Sciences: 89\n",
      "Others: 11\n",
      "Medical: 63\n",
      "Marketing: 35\n",
      "Technical Degree: 32\n",
      "Human Resources: 7\n"
     ]
    }
   ],
   "source": [
    "#finding attrition by education\n",
    "unique_education = dataframe['EducationField'].unique()\n",
    "print(f\"No. of education field: {len(unique_education)}\")\n",
    "print()\n",
    "\n",
    "life_sciences_edu_count = 0\n",
    "others_edu_count = 0\n",
    "medical_edu_count = 0\n",
    "marketing_edu_count = 0\n",
    "technical_degree_edu_count = 0\n",
    "human_resources_edu_count = 0\n",
    "\n",
    "for i in range(len(dataframe)):\n",
    "    if dataframe['Attrition'][i] == 'Yes':\n",
    "        if dataframe['EducationField'][i] == 'Life Sciences':\n",
    "            life_sciences_edu_count += 1\n",
    "        elif dataframe['EducationField'][i] == 'Other':\n",
    "            others_edu_count += 1\n",
    "        elif dataframe['EducationField'][i] == 'Medical':\n",
    "            medical_edu_count += 1\n",
    "        elif dataframe['EducationField'][i] == 'Marketing':\n",
    "            marketing_edu_count += 1\n",
    "        elif dataframe['EducationField'][i] == 'Technical Degree':\n",
    "            technical_degree_edu_count += 1\n",
    "        elif dataframe['EducationField'][i] == 'Human Resources':\n",
    "            human_resources_edu_count += 1\n",
    "\n",
    "print(\"Attrition by Education:\")\n",
    "print(f\"Life Sciences: {life_sciences_edu_count}\")\n",
    "print(f\"Others: {others_edu_count}\")\n",
    "print(f\"Medical: {medical_edu_count}\")\n",
    "print(f\"Marketing: {marketing_edu_count}\")\n",
    "print(f\"Technical Degree: {technical_degree_edu_count}\")\n",
    "print(f\"Human Resources: {human_resources_edu_count}\")"
   ]
  },
  {
   "cell_type": "code",
   "execution_count": 108,
   "metadata": {},
   "outputs": [],
   "source": [
    "dataframe.to_csv('./csv/cleaned-greendestination-dataset.csv', index = False)"
   ]
  },
  {
   "cell_type": "markdown",
   "metadata": {},
   "source": [
    "### 5. Share"
   ]
  },
  {
   "cell_type": "markdown",
   "metadata": {},
   "source": [
    "- I will be sharing all charts and graphs using Tableau\n",
    "- Please use the dashboard link"
   ]
  },
  {
   "cell_type": "markdown",
   "metadata": {},
   "source": [
    "### 6. Act"
   ]
  },
  {
   "cell_type": "markdown",
   "metadata": {},
   "source": [
    "Insights"
   ]
  },
  {
   "cell_type": "markdown",
   "metadata": {},
   "source": [
    "- No. of employee's: 1470\n",
    "- No. of attrition: 237\n",
    "- Attrition rate: 16.1 %\n",
    "- Average age: 37\n",
    "- Average salary: $ 6503\n",
    "- Average years: 7.0\n",
    "- Male: 882, Female: 588\n",
    "- Attrition by Gender: Male: 150, Female: 87\n",
    "- No. of job roles: 9\n",
    "- Attrition by Job Role:\n",
    "  1. Sales Executive: 57\n",
    "  2. Research Scientist: 47\n",
    "  3. Laboratory Technician: 62\n",
    "  4. Manufacturing Director: 10\n",
    "  5. Healthcare Representative: 9\n",
    "  6. Manager: 5\n",
    "  7. Sales Representative: 33\n",
    "  8. Research Director: 2\n",
    "  9. Human Resources: 12\n",
    "- Attrition by Age:\n",
    "  1. (18 - 25) yrs: 44\n",
    "  2. (26 - 35) yrs: 116\n",
    "  3. (36 - 45) yrs: 43\n",
    "  4. (46 - 55) yrs: 26\n",
    "  5. (56 - 60) yrs: 8\n",
    "- Attrition by Salary:\n",
    "  1. upto 2k: 18\n",
    "  2. 2k - 5k: 145\n",
    "  3. 5k - 10k: 49\n",
    "  4. 10k - 15k: 20\n",
    "  5. 15k plus: 5\n",
    "- No. of education field: 6\n",
    "- Attrition by Education:\n",
    "  1. Life Sciences: 89\n",
    "  2. Others: 11\n",
    "  3. Medical: 63\n",
    "  4. Marketing: 35\n",
    "  5. Technical Degree: 32\n",
    "  6. Human Resources: 7"
   ]
  },
  {
   "cell_type": "markdown",
   "metadata": {},
   "source": [
    "Recommendations"
   ]
  },
  {
   "cell_type": "markdown",
   "metadata": {},
   "source": [
    "Based on these insights, it appears that factors such as age, gender, salary, job role, and education field significantly influence attrition rates within the organization. Further analysis could delve into reasons behind these trends and formulate strategies to mitigate attrition, such as targeted retention programs, career development initiatives, and salary adjustments."
   ]
  }
 ],
 "metadata": {
  "kernelspec": {
   "display_name": "Python 3",
   "language": "python",
   "name": "python3"
  },
  "language_info": {
   "codemirror_mode": {
    "name": "ipython",
    "version": 3
   },
   "file_extension": ".py",
   "mimetype": "text/x-python",
   "name": "python",
   "nbconvert_exporter": "python",
   "pygments_lexer": "ipython3",
   "version": "3.12.2"
  }
 },
 "nbformat": 4,
 "nbformat_minor": 2
}
